{
 "cells": [
  {
   "cell_type": "markdown",
   "metadata": {},
   "source": [
    "# Visualize Sparse PC"
   ]
  },
  {
   "cell_type": "code",
   "execution_count": null,
   "metadata": {},
   "outputs": [],
   "source": [
    "import os\n",
    "import plotly.graph_objects as go\n",
    "import torch\n",
    "\n",
    "from semalign3d.core.data import (\n",
    "    setup_paths,\n",
    "    raw_data_utils,\n",
    "    sem3d_data_utils,\n",
    ")"
   ]
  },
  {
   "cell_type": "code",
   "execution_count": null,
   "metadata": {},
   "outputs": [],
   "source": [
    "run_config_path = f\"{os.getcwd()}/../scripts/run_config.yaml\"\n",
    "paths = setup_paths.setup_paths(run_config_path)\n",
    "all_categories = raw_data_utils.DATASET_NAME_TO_CATEGORIES[paths.dataset_name]"
   ]
  },
  {
   "cell_type": "code",
   "execution_count": null,
   "metadata": {},
   "outputs": [],
   "source": [
    "cat_idx = 0"
   ]
  },
  {
   "cell_type": "code",
   "execution_count": null,
   "metadata": {},
   "outputs": [],
   "source": [
    "category = all_categories[cat_idx]\n",
    "print(category, cat_idx)\n",
    "cat_idx += 1\n",
    "sparse_pc = sem3d_data_utils.load_sparse_pc(paths, category)\n",
    "used_kpts_mask = torch.any(sparse_pc.xyz != torch.inf, dim=1)\n",
    "xyz = sparse_pc.xyz[used_kpts_mask]\n",
    "labels = torch.arange(sparse_pc.xyz.shape[0])\n",
    "labels = labels[used_kpts_mask]\n",
    "go_fig = go.Figure(data=[\n",
    "    go.Scatter3d(\n",
    "\t\tx=xyz[:, 0],\n",
    "\t\ty=xyz[:, 1],\n",
    "\t\tz=xyz[:, 2],\n",
    "\t\tmode=\"markers\",\n",
    "\t\tmarker=dict(size=4),\n",
    "\t\thovertext=[f\"Point {i}\" for i in labels.tolist()]\n",
    "\t)\n",
    "])\n",
    "go_fig.update_layout(\n",
    "    scene=dict(\n",
    "\t\taspectmode=\"data\",\n",
    "\t\txaxis=dict(visible=False),\n",
    "\t\tyaxis=dict(visible=False),\n",
    "\t\tzaxis=dict(visible=False)\n",
    "\t),\n",
    "    margin=dict(l=0, r=0, b=0),\n",
    ")\n",
    "go_fig.show()"
   ]
  }
 ],
 "metadata": {
  "kernelspec": {
   "display_name": "semalign3d",
   "language": "python",
   "name": "python3"
  },
  "language_info": {
   "codemirror_mode": {
    "name": "ipython",
    "version": 3
   },
   "file_extension": ".py",
   "mimetype": "text/x-python",
   "name": "python",
   "nbconvert_exporter": "python",
   "pygments_lexer": "ipython3",
   "version": "3.10.18"
  }
 },
 "nbformat": 4,
 "nbformat_minor": 2
}
