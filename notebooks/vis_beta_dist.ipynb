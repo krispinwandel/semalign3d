{
 "cells": [
  {
   "cell_type": "markdown",
   "id": "d03609d6",
   "metadata": {},
   "source": [
    "# Visualize fitted beta distributions"
   ]
  },
  {
   "cell_type": "code",
   "execution_count": null,
   "id": "3fd53536",
   "metadata": {},
   "outputs": [],
   "source": [
    "import os\n",
    "import plotly.graph_objects as go\n",
    "import torch\n",
    "\n",
    "from semalign3d.core import data_classes\n",
    "from semalign3d.core.data import (\n",
    "    setup_paths,\n",
    "    raw_data_utils,\n",
    "    sem3d_data_utils,\n",
    "\tkeypoint_processing,\n",
    "    augmentations\n",
    ")\n",
    "from semalign3d.core.geometry import geom_filter, geom_features"
   ]
  },
  {
   "cell_type": "code",
   "execution_count": null,
   "id": "dd01042f",
   "metadata": {},
   "outputs": [],
   "source": [
    "run_config_path = f\"{os.getcwd()}/../scripts/run_config.yaml\"\n",
    "paths = setup_paths.setup_paths(run_config_path)\n",
    "all_categories = raw_data_utils.DATASET_NAME_TO_CATEGORIES[paths.dataset_name]"
   ]
  },
  {
   "cell_type": "code",
   "execution_count": null,
   "id": "1d2da541",
   "metadata": {},
   "outputs": [],
   "source": [
    "category = \"aeroplane\"\n",
    "use_vggt = False\n",
    "sem_align_3d_data = sem3d_data_utils.load_data(\n",
    "\tcategory=category,\n",
    "\tpaths=paths,\n",
    "\tload_geom_stats=False,\n",
    "\tdo_load_sparse_pc=False,\n",
    "\tdo_load_dense_pc=False,\n",
    "\tuse_vggt=use_vggt,\n",
    ")"
   ]
  },
  {
   "cell_type": "code",
   "execution_count": null,
   "id": "28bc93b7",
   "metadata": {},
   "outputs": [],
   "source": [
    "gt_kpts_data = keypoint_processing.correct_gt_kpts_xyz(\n",
    "\tsem_align_3d_data.full_data.processed_data_train\n",
    ")\n",
    "# the params below were used for beta distribution fitting\n",
    "n_samples_per_img = 10\n",
    "noise_rate=0.2\n",
    "gt_kpts_data_aug = augmentations.generate_noisy_gt_kpts_data(\n",
    "\tgt_kpts_data,\n",
    "\tn_samples_per_img=n_samples_per_img,\n",
    "\tnoise_rate=noise_rate,\n",
    ")"
   ]
  },
  {
   "cell_type": "code",
   "execution_count": null,
   "id": "083e8a58",
   "metadata": {},
   "outputs": [],
   "source": [
    "load_geom_stats_suffix = \"\"\n",
    "geom_stats_partial = torch.load(\n",
    "\tf\"{paths.geom_stats_dir}/{category}_geom_stats{load_geom_stats_suffix}{paths.suffix}.pt\",\n",
    "\tweights_only=False,\n",
    ")\n",
    "geom_relation_combinations_partial = torch.load(\n",
    "\tf\"{paths.geom_stats_dir}/{category}_geom_combinations{load_geom_stats_suffix}{paths.suffix}.pt\",\n",
    "\tweights_only=False,\n",
    ")\n",
    "geom_stats_partial_filtered, geom_relation_combinations_partial_filtered = (\n",
    "\tgeom_filter.filter_valid_stats(\n",
    "\t\tgeom_stats_partial, geom_relation_combinations_partial\n",
    "\t)\n",
    ")\n",
    "geom_relation_combinations_partial_filtered.e1.shape"
   ]
  },
  {
   "cell_type": "code",
   "execution_count": null,
   "id": "961838ef",
   "metadata": {},
   "outputs": [],
   "source": [
    "geom_feature_idx = 400\n",
    "\n",
    "geom_relation_combinations_batch = data_classes.GeomRelationCombinations(\n",
    "\te1=geom_relation_combinations_partial.e1[geom_feature_idx : geom_feature_idx + 1],\n",
    "\te2=geom_relation_combinations_partial.e2[geom_feature_idx : geom_feature_idx + 1],\n",
    "\tt=geom_relation_combinations_partial.t[:1],\n",
    "\tv=geom_relation_combinations_partial.v[:1],\n",
    ")\n",
    "geom_fts = geom_features.compute_geom_features_batched(\n",
    "\tvertices=gt_kpts_data_aug.xyz,\n",
    "\tgeom_relation_combinations=geom_relation_combinations_batch,\n",
    ")\n",
    "\n",
    "from scipy.stats import beta\n",
    "def create_beta_dist_line(a, b):\n",
    "\tx = torch.linspace(0, 1, 100)\n",
    "\ty = beta.pdf(x.numpy(), a=a, b=b)\n",
    "\treturn x, y\n",
    "\n",
    "fts_m = geom_stats_partial.m_edge_pair_ratios\n",
    "print(\"n samples:\", torch.sum(fts_m[:,geom_feature_idx]).int().item())\n",
    "fts = geom_fts.edge_pair_ratios[fts_m[:,geom_feature_idx],0]\n",
    "x, y = create_beta_dist_line(\n",
    "\tgeom_stats_partial.edge_pair_ratios_alpha[geom_feature_idx],\n",
    "\tgeom_stats_partial.edge_pair_ratios_beta[geom_feature_idx]\n",
    ")\n",
    "\n",
    "go.Figure([\n",
    "    go.Histogram(x=fts, nbinsx=50, name='Edge Pair Ratios', histnorm='probability density'),\n",
    "\tgo.Scatter(\n",
    "\t\tx=x,\n",
    "\t\ty=y,\n",
    "\t\tmode='lines',\n",
    "\t\tname='Fitted Beta Distribution',\n",
    "\t\tline=dict(color='red')\n",
    "\t)\n",
    "])"
   ]
  }
 ],
 "metadata": {
  "kernelspec": {
   "display_name": "semalign3d",
   "language": "python",
   "name": "python3"
  },
  "language_info": {
   "codemirror_mode": {
    "name": "ipython",
    "version": 3
   },
   "file_extension": ".py",
   "mimetype": "text/x-python",
   "name": "python",
   "nbconvert_exporter": "python",
   "pygments_lexer": "ipython3",
   "version": "3.10.18"
  }
 },
 "nbformat": 4,
 "nbformat_minor": 5
}
