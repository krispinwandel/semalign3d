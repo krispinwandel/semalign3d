{
 "cells": [
  {
   "cell_type": "markdown",
   "metadata": {},
   "source": [
    "# Visualize Data Splits"
   ]
  },
  {
   "cell_type": "code",
   "execution_count": null,
   "metadata": {},
   "outputs": [],
   "source": [
    "import os\n",
    "import plotly.express as px\n",
    "import plotly.graph_objects as go\n",
    "import numpy as np\n",
    "from PIL import Image\n",
    "\n",
    "from semalign3d.core.data import (\n",
    "    setup_paths,\n",
    "    raw_data_utils\n",
    ")"
   ]
  },
  {
   "cell_type": "code",
   "execution_count": null,
   "metadata": {},
   "outputs": [],
   "source": [
    "run_config_path = f\"{os.getcwd()}/../scripts/run_config.yaml\"\n",
    "paths = setup_paths.setup_paths(run_config_path)\n",
    "all_categories = raw_data_utils.DATASET_NAME_TO_CATEGORIES[paths.dataset_name]"
   ]
  },
  {
   "cell_type": "code",
   "execution_count": null,
   "metadata": {},
   "outputs": [],
   "source": [
    "# category = all_categories[cat_idx]\n",
    "# category = \"pottedplant\"\n",
    "category = \"bird\"\n",
    "print(\"category:\", category)\n",
    "split = \"trn\"\n",
    "img_files = np.load(f'{paths.img_file_splits_dir}/{category}_img_files_{split}.npy')\n",
    "print(\"img_files.shape:\", img_files.shape)\n",
    "\n",
    "kpt_img_coords = raw_data_utils.load_kpt_img_coords_torch(\n",
    "    img_files=img_files,\n",
    "    dataset_name=paths.dataset_name,\n",
    "    flips=[False],\n",
    "    category=category,\n",
    ")\n",
    "n_max_kpts, unused_kpts = raw_data_utils.compute_n_max_kpts(kpt_img_coords)\n",
    "# cat_idx += 1\n",
    "print(\"n_max_kpts:\", n_max_kpts, \"unused_kpts:\", unused_kpts)"
   ]
  },
  {
   "cell_type": "code",
   "execution_count": null,
   "metadata": {},
   "outputs": [],
   "source": [
    "img_idx = 0"
   ]
  },
  {
   "cell_type": "code",
   "execution_count": null,
   "metadata": {},
   "outputs": [],
   "source": [
    "print(\"img_idx:\", img_idx)\n",
    "img_fp = img_files[img_idx]\n",
    "print(img_fp)\n",
    "# img_anno_fp = img_fp.replace('JPEGImages', 'ImageAnnotation').replace('.jpg', '.json')\n",
    "img_anno = raw_data_utils.load_normalized_img_anno_from_img_fp(img_fp, paths.dataset_name)\n",
    "input_points = np.array(img_anno.kp_xy, dtype=int)\n",
    "print(\"n_pts\", len(input_points), len(img_anno.kp_ids))\n",
    "img_np = np.array(Image.open(img_fp))\n",
    "fig2d = px.imshow(img_np)\n",
    "scatter_cands = go.Scatter(\n",
    "    x=input_points[:,0],\n",
    "    y=input_points[:,1],\n",
    "    mode=\"markers\",\n",
    "    marker=dict(size=10,color=\"green\",opacity=0.8),\n",
    "    hovertext=[f\"{i}\" for i in img_anno.kp_ids]\n",
    ")\n",
    "fig2d.add_trace(scatter_cands)\n",
    "fig2d.show()\n",
    "print(img_anno.kp_ids)\n",
    "img_idx += 1"
   ]
  }
 ],
 "metadata": {
  "kernelspec": {
   "display_name": "semalign3d",
   "language": "python",
   "name": "python3"
  },
  "language_info": {
   "codemirror_mode": {
    "name": "ipython",
    "version": 3
   },
   "file_extension": ".py",
   "mimetype": "text/x-python",
   "name": "python",
   "nbconvert_exporter": "python",
   "pygments_lexer": "ipython3",
   "version": "3.10.18"
  }
 },
 "nbformat": 4,
 "nbformat_minor": 2
}
