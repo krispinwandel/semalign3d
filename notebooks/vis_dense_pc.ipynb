{
 "cells": [
  {
   "cell_type": "markdown",
   "metadata": {},
   "source": [
    "# Visualize Dense PC"
   ]
  },
  {
   "cell_type": "code",
   "execution_count": null,
   "metadata": {},
   "outputs": [],
   "source": [
    "import os\n",
    "import plotly.graph_objects as go\n",
    "\n",
    "from semalign3d.core.data import (\n",
    "    setup_paths,\n",
    "    sem3d_data_utils,\n",
    "    raw_data_utils\n",
    ")"
   ]
  },
  {
   "cell_type": "code",
   "execution_count": null,
   "metadata": {},
   "outputs": [],
   "source": [
    "run_config_path = f\"{os.getcwd()}/../scripts/run_config.yaml\"\n",
    "paths = setup_paths.setup_paths(run_config_path)\n",
    "all_categories = raw_data_utils.DATASET_NAME_TO_CATEGORIES[paths.dataset_name]"
   ]
  },
  {
   "cell_type": "code",
   "execution_count": null,
   "metadata": {},
   "outputs": [],
   "source": [
    "cat_idx = 0"
   ]
  },
  {
   "cell_type": "code",
   "execution_count": null,
   "metadata": {},
   "outputs": [],
   "source": [
    "category = all_categories[cat_idx]\n",
    "print(category, cat_idx)\n",
    "cat_idx += 1\n",
    "dense_pc = sem3d_data_utils.load_dense_pc(\n",
    "\tpaths=paths,\n",
    "\tcategory=category,\n",
    "\tcutoff_thresh=0.0003\n",
    ")\n",
    "fig = go.Figure(data=[\n",
    "    go.Scatter3d(\n",
    "        x=dense_pc.xyz[:,0], \n",
    "        y=dense_pc.xyz[:,1],\n",
    "        z=dense_pc.xyz[:,2],\n",
    "        mode='markers',\n",
    "        marker=dict(\n",
    "            size=4,\n",
    "            opacity=0.3,\n",
    "            color=dense_pc.color\n",
    "        ),\n",
    "        hovertext=[f\"Cluster {i}\" for i in range(dense_pc.xyz.shape[0])]\n",
    "    ),\n",
    "    go.Scatter3d(\n",
    "        x=dense_pc.anchor_xyz[:,0], \n",
    "\t\ty=dense_pc.anchor_xyz[:,1],\n",
    "\t\tz=dense_pc.anchor_xyz[:,2],\n",
    "\t\tmode='markers',\n",
    "        marker=dict(\n",
    "            size=6,\n",
    "            opacity=1.0,\n",
    "\t\t\tcolor=\"black\"\n",
    "        ),\n",
    "\t\thoverinfo='none'\n",
    "\t)\n",
    "])\n",
    "fig.update_layout(\n",
    "    margin=dict(l=0, r=0, b=0, t=0),\n",
    "    scene=dict(aspectmode=\"data\", xaxis=dict(visible=False), yaxis=dict(visible=False), zaxis=dict(visible=False))\n",
    ")\n",
    "fig.show()"
   ]
  }
 ],
 "metadata": {
  "kernelspec": {
   "display_name": "semalign3d",
   "language": "python",
   "name": "python3"
  },
  "language_info": {
   "codemirror_mode": {
    "name": "ipython",
    "version": 3
   },
   "file_extension": ".py",
   "mimetype": "text/x-python",
   "name": "python",
   "nbconvert_exporter": "python",
   "pygments_lexer": "ipython3",
   "version": "3.10.18"
  }
 },
 "nbformat": 4,
 "nbformat_minor": 2
}
